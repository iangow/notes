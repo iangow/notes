{
 "cells": [
  {
   "cell_type": "code",
   "execution_count": null,
   "id": "ec58e186-3eb1-4efe-879f-0a2f357e65f9",
   "metadata": {},
   "outputs": [],
   "source": [
    "import duckdb"
   ]
  },
  {
   "cell_type": "code",
   "execution_count": null,
   "id": "297b4292-4996-4a1d-b4e8-becfdab0c2f7",
   "metadata": {},
   "outputs": [],
   "source": [
    "import pygwalker as pyg"
   ]
  },
  {
   "cell_type": "code",
   "execution_count": null,
   "id": "7b8e35fb-57e0-4eba-bc0d-1975f62e97e8",
   "metadata": {},
   "outputs": [],
   "source": [
    "bikes = duckdb.read_parquet(\"bikes.parquet\").df()"
   ]
  },
  {
   "cell_type": "code",
   "execution_count": null,
   "id": "343909b0-86b5-4412-a2b4-7ad8257abf7b",
   "metadata": {},
   "outputs": [],
   "source": [
    "walker = pyg.walk(bikes)"
   ]
  }
 ],
 "metadata": {
  "kernelspec": {
   "display_name": "Python 3 (ipykernel)",
   "language": "python",
   "name": "python3"
  },
  "language_info": {
   "codemirror_mode": {
    "name": "ipython",
    "version": 3
   },
   "file_extension": ".py",
   "mimetype": "text/x-python",
   "name": "python",
   "nbconvert_exporter": "python",
   "pygments_lexer": "ipython3",
   "version": "3.12.6"
  }
 },
 "nbformat": 4,
 "nbformat_minor": 5
}
